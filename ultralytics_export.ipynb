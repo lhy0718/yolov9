{
 "cells": [
  {
   "cell_type": "code",
   "execution_count": null,
   "metadata": {},
   "outputs": [
    {
     "ename": "",
     "evalue": "",
     "output_type": "error",
     "traceback": [
      "\u001b[1;31m'/home/hanyong/miniconda3/envs/yolov9/lib/python3.10/site-packages/typing_extensions.py'에서 'TypeAliasType'을(를) 가져올 수 없기 때문에 kernel을 시작하지 못했습니다.\n",
      "\u001b[1;31m자세한 내용을 보려면 <a href='https://aka.ms/kernelFailuresModuleImportErrFromFile'>여기</a>를 클릭합니다."
     ]
    }
   ],
   "source": [
    "from ultralytics import YOLO\n",
    "\n",
    "# Format                  | `format=argument`         | Model\n",
    "# ---                     | ---                       | ---\n",
    "# PyTorch                 | -                         | yolov8n.pt\n",
    "# TorchScript             | `torchscript`             | yolov8n.torchscript\n",
    "# ONNX                    | `onnx`                    | yolov8n.onnx\n",
    "# OpenVINO                | `openvino`                | yolov8n_openvino_model/\n",
    "# TensorRT                | `engine`                  | yolov8n.engine\n",
    "# CoreML                  | `coreml`                  | yolov8n.mlpackage\n",
    "# TensorFlow SavedModel   | `saved_model`             | yolov8n_saved_model/\n",
    "# TensorFlow GraphDef     | `pb`                      | yolov8n.pb\n",
    "# TensorFlow Lite         | `tflite`                  | yolov8n.tflite\n",
    "# TensorFlow Edge TPU     | `edgetpu`                 | yolov8n_edgetpu.tflite\n",
    "# TensorFlow.js           | `tfjs`                    | yolov8n_web_model/\n",
    "# PaddlePaddle            | `paddle`                  | yolov8n_paddle_model/\n",
    "# NCNN                    | `ncnn`                    | yolov8n_ncnn_model/\n",
    "\n",
    "# More information\n",
    "# https://docs.ultralytics.com/modes/export/#arguments\n",
    "\n",
    "# Load a model\n",
    "model = YOLO(\"yolov9c-ultralytics.pt\")\n",
    "\n",
    "path = model.export(\n",
    "    format=\"tfjs\",\n",
    "    imgsz=640,\n",
    "    int8=True,\n",
    ")"
   ]
  },
  {
   "cell_type": "code",
   "execution_count": null,
   "metadata": {},
   "outputs": [
    {
     "ename": "",
     "evalue": "",
     "output_type": "error",
     "traceback": [
      "\u001b[1;31m'/home/hanyong/miniconda3/envs/yolov9/lib/python3.10/site-packages/typing_extensions.py'에서 'TypeAliasType'을(를) 가져올 수 없기 때문에 kernel을 시작하지 못했습니다.\n",
      "\u001b[1;31m자세한 내용을 보려면 <a href='https://aka.ms/kernelFailuresModuleImportErrFromFile'>여기</a>를 클릭합니다."
     ]
    }
   ],
   "source": []
  }
 ],
 "metadata": {
  "kernelspec": {
   "display_name": "yolov9",
   "language": "python",
   "name": "python3"
  },
  "language_info": {
   "codemirror_mode": {
    "name": "ipython",
    "version": 3
   },
   "file_extension": ".py",
   "mimetype": "text/x-python",
   "name": "python",
   "nbconvert_exporter": "python",
   "pygments_lexer": "ipython3",
   "version": "3.10.14"
  }
 },
 "nbformat": 4,
 "nbformat_minor": 2
}
