{
 "cells": [
  {
   "cell_type": "code",
   "execution_count": 1,
   "metadata": {},
   "outputs": [
    {
     "name": "stdout",
     "output_type": "stream",
     "text": [
      "Ultralytics YOLOv8.1.47 🚀 Python-3.10.14 torch-2.3.0+cu121 CPU (12th Gen Intel Core(TM) i5-12400F)\n",
      "YOLOv9c summary (fused): 384 layers, 25380928 parameters, 0 gradients, 102.7 GFLOPs\n",
      "\n",
      "\u001b[34m\u001b[1mPyTorch:\u001b[0m starting from 'yolov9c.pt' with input shape (1, 3, 640, 640) BCHW and output shape(s) (1, 84, 8400) (49.4 MB)\n",
      "\n",
      "\u001b[34m\u001b[1mTensorFlow SavedModel:\u001b[0m starting export with tensorflow 2.13.1...\n",
      "\n",
      "\u001b[34m\u001b[1mONNX:\u001b[0m starting export with onnx 1.16.1 opset 17...\n",
      "\u001b[34m\u001b[1mONNX:\u001b[0m simplifying with onnxsim 0.4.36...\n",
      "\u001b[34m\u001b[1mONNX:\u001b[0m export success ✅ 2.5s, saved as 'yolov9c.onnx' (97.1 MB)\n",
      "\u001b[34m\u001b[1mTensorFlow SavedModel:\u001b[0m starting TFLite export with onnx2tf 1.17.5...\n"
     ]
    },
    {
     "name": "stderr",
     "output_type": "stream",
     "text": [
      "2024-05-27 22:21:16.931393: E tensorflow/compiler/xla/stream_executor/cuda/cuda_driver.cc:268] failed call to cuInit: CUDA_ERROR_NO_DEVICE: no CUDA-capable device is detected\n"
     ]
    },
    {
     "name": "stdout",
     "output_type": "stream",
     "text": [
      "\u001b[34m\u001b[1mTensorFlow SavedModel:\u001b[0m export success ✅ 21.0s, saved as 'yolov9c_saved_model' (242.9 MB)\n",
      "\n",
      "\u001b[34m\u001b[1mTensorFlow GraphDef:\u001b[0m starting export with tensorflow 2.13.1...\n",
      "ConcreteFunction <lambda>(inputs_0)\n",
      "  Args:\n",
      "    inputs_0: float32 Tensor, shape=(1, 640, 640, 3)\n",
      "  Returns:\n",
      "    float32 Tensor, shape=(1, 84, 8400)\n",
      "\u001b[34m\u001b[1mTensorFlow GraphDef:\u001b[0m export success ✅ 1.0s, saved as 'yolov9c.pb' (97.2 MB)\n"
     ]
    },
    {
     "name": "stderr",
     "output_type": "stream",
     "text": [
      "WARNING:root:TensorFlow Decision Forests 1.5.0 is compatible with the following TensorFlow Versions: ['2.13.0']. However, TensorFlow 2.13.1 was detected. This can cause issues with the TF API and symbols in the custom C++ ops. See the TF and TF-DF compatibility table at https://github.com/tensorflow/decision-forests/blob/main/documentation/known_issues.md#compatibility-table.\n"
     ]
    },
    {
     "name": "stdout",
     "output_type": "stream",
     "text": [
      "\n",
      "\u001b[34m\u001b[1mTensorFlow.js:\u001b[0m starting export with tensorflowjs 4.19.0...\n",
      "\n",
      "\u001b[34m\u001b[1mTensorFlow.js:\u001b[0m output node names: Identity:0\n",
      "\u001b[34m\u001b[1mTensorFlow.js:\u001b[0m running 'tensorflowjs_converter --input_format=tf_frozen_model  --output_node_names=Identity:0 \"yolov9c.pb\" \"yolov9c_web_model\"'\n"
     ]
    },
    {
     "name": "stderr",
     "output_type": "stream",
     "text": [
      "WARNING:root:TensorFlow Decision Forests 1.5.0 is compatible with the following TensorFlow Versions: ['2.13.0']. However, TensorFlow 2.13.1 was detected. This can cause issues with the TF API and symbols in the custom C++ ops. See the TF and TF-DF compatibility table at https://github.com/tensorflow/decision-forests/blob/main/documentation/known_issues.md#compatibility-table.\n"
     ]
    },
    {
     "name": "stdout",
     "output_type": "stream",
     "text": [
      "weight 29772 with shape (3,) and dtype int64 was auto converted to the type int32\n",
      "weight 29774 with shape (3,) and dtype int64 was auto converted to the type int32\n",
      "weight PartitionedCall/model_1/tf.strided_slice_29/ones_like with shape (3,) and dtype int64 was auto converted to the type int32\n",
      "weight 29766 with shape (3,) and dtype int64 was auto converted to the type int32\n",
      "weight 29768 with shape (3,) and dtype int64 was auto converted to the type int32\n",
      "weight PartitionedCall/model_1/tf.strided_slice_26/StridedSlice/strides with shape (3,) and dtype int64 was auto converted to the type int32\n",
      "weight 29776 with shape (3,) and dtype int64 was auto converted to the type int32\n",
      "weight 29778 with shape (3,) and dtype int64 was auto converted to the type int32\n",
      "weight PartitionedCall/model_1/tf.strided_slice_28/ones_like with shape (3,) and dtype int64 was auto converted to the type int32\n",
      "weight 29686 with shape (4,) and dtype int64 was auto converted to the type int32\n",
      "weight 29688 with shape (4,) and dtype int64 was auto converted to the type int32\n",
      "weight PartitionedCall/model_1/tf.strided_slice_24/ones_like with shape (4,) and dtype int64 was auto converted to the type int32\n",
      "weight 29616 with shape (4,) and dtype int64 was auto converted to the type int32\n",
      "weight 29618 with shape (4,) and dtype int64 was auto converted to the type int32\n",
      "weight PartitionedCall/model_1/tf.strided_slice_22/ones_like with shape (4,) and dtype int64 was auto converted to the type int32\n",
      "weight 29604 with shape (4,) and dtype int64 was auto converted to the type int32\n",
      "weight 29606 with shape (4,) and dtype int64 was auto converted to the type int32\n",
      "weight PartitionedCall/model_1/tf.strided_slice_20/ones_like with shape (4,) and dtype int64 was auto converted to the type int32\n",
      "weight 29534 with shape (4,) and dtype int64 was auto converted to the type int32\n",
      "weight 29536 with shape (4,) and dtype int64 was auto converted to the type int32\n",
      "weight PartitionedCall/model_1/tf.strided_slice_18/ones_like with shape (4,) and dtype int64 was auto converted to the type int32\n",
      "weight 29522 with shape (4,) and dtype int64 was auto converted to the type int32\n",
      "weight 29524 with shape (4,) and dtype int64 was auto converted to the type int32\n",
      "weight PartitionedCall/model_1/tf.strided_slice_16/ones_like with shape (4,) and dtype int64 was auto converted to the type int32\n",
      "weight 29470 with shape (4,) and dtype int64 was auto converted to the type int32\n",
      "weight 29472 with shape (4,) and dtype int64 was auto converted to the type int32\n",
      "weight PartitionedCall/model_1/tf.strided_slice_17/ones_like with shape (4,) and dtype int64 was auto converted to the type int32\n",
      "weight 29530 with shape (4,) and dtype int64 was auto converted to the type int32\n",
      "weight 29532 with shape (4,) and dtype int64 was auto converted to the type int32\n",
      "weight PartitionedCall/model_1/tf.strided_slice_19/ones_like with shape (4,) and dtype int64 was auto converted to the type int32\n",
      "weight 29458 with shape (4,) and dtype int64 was auto converted to the type int32\n",
      "weight 29460 with shape (4,) and dtype int64 was auto converted to the type int32\n",
      "weight PartitionedCall/model_1/tf.strided_slice_14/ones_like with shape (4,) and dtype int64 was auto converted to the type int32\n",
      "weight 29406 with shape (4,) and dtype int64 was auto converted to the type int32\n",
      "weight 29408 with shape (4,) and dtype int64 was auto converted to the type int32\n",
      "weight PartitionedCall/model_1/tf.strided_slice_15/ones_like with shape (4,) and dtype int64 was auto converted to the type int32\n",
      "weight 29552 with shape (4,) and dtype int64 was auto converted to the type int32\n",
      "weight 29554 with shape (4,) and dtype int64 was auto converted to the type int32\n",
      "weight PartitionedCall/model_1/tf.strided_slice_21/ones_like with shape (4,) and dtype int64 was auto converted to the type int32\n",
      "weight 29612 with shape (4,) and dtype int64 was auto converted to the type int32\n",
      "weight 29614 with shape (4,) and dtype int64 was auto converted to the type int32\n",
      "weight PartitionedCall/model_1/tf.strided_slice_23/ones_like with shape (4,) and dtype int64 was auto converted to the type int32\n",
      "weight 29386 with shape (4,) and dtype int64 was auto converted to the type int32\n",
      "weight 29388 with shape (4,) and dtype int64 was auto converted to the type int32\n",
      "weight PartitionedCall/model_1/tf.strided_slice_12/ones_like with shape (4,) and dtype int64 was auto converted to the type int32\n",
      "weight 29316 with shape (4,) and dtype int64 was auto converted to the type int32\n",
      "weight 29318 with shape (4,) and dtype int64 was auto converted to the type int32\n",
      "weight PartitionedCall/model_1/tf.strided_slice_10/ones_like with shape (4,) and dtype int64 was auto converted to the type int32\n",
      "weight 29304 with shape (4,) and dtype int64 was auto converted to the type int32\n",
      "weight 29306 with shape (4,) and dtype int64 was auto converted to the type int32\n",
      "weight PartitionedCall/model_1/tf.strided_slice_8/ones_like with shape (4,) and dtype int64 was auto converted to the type int32\n",
      "weight 29234 with shape (4,) and dtype int64 was auto converted to the type int32\n",
      "weight 29236 with shape (4,) and dtype int64 was auto converted to the type int32\n",
      "weight PartitionedCall/model_1/tf.strided_slice_6/ones_like with shape (4,) and dtype int64 was auto converted to the type int32\n",
      "weight 29222 with shape (4,) and dtype int64 was auto converted to the type int32\n",
      "weight 29224 with shape (4,) and dtype int64 was auto converted to the type int32\n",
      "weight PartitionedCall/model_1/tf.strided_slice_4/ones_like with shape (4,) and dtype int64 was auto converted to the type int32\n",
      "weight 29152 with shape (4,) and dtype int64 was auto converted to the type int32\n",
      "weight 29154 with shape (4,) and dtype int64 was auto converted to the type int32\n",
      "weight PartitionedCall/model_1/tf.strided_slice_2/ones_like with shape (4,) and dtype int64 was auto converted to the type int32\n",
      "weight 29140 with shape (4,) and dtype int64 was auto converted to the type int32\n",
      "weight 29142 with shape (4,) and dtype int64 was auto converted to the type int32\n",
      "weight PartitionedCall/model_1/tf.strided_slice/ones_like with shape (4,) and dtype int64 was auto converted to the type int32\n",
      "weight 29088 with shape (4,) and dtype int64 was auto converted to the type int32\n",
      "weight 29090 with shape (4,) and dtype int64 was auto converted to the type int32\n",
      "weight PartitionedCall/model_1/tf.strided_slice_1/ones_like with shape (4,) and dtype int64 was auto converted to the type int32\n",
      "weight 29148 with shape (4,) and dtype int64 was auto converted to the type int32\n",
      "weight 29150 with shape (4,) and dtype int64 was auto converted to the type int32\n",
      "weight PartitionedCall/model_1/tf.strided_slice_3/ones_like with shape (4,) and dtype int64 was auto converted to the type int32\n",
      "weight 29170 with shape (4,) and dtype int64 was auto converted to the type int32\n",
      "weight 29172 with shape (4,) and dtype int64 was auto converted to the type int32\n",
      "weight PartitionedCall/model_1/tf.strided_slice_5/ones_like with shape (4,) and dtype int64 was auto converted to the type int32\n",
      "weight 29230 with shape (4,) and dtype int64 was auto converted to the type int32\n",
      "weight 29232 with shape (4,) and dtype int64 was auto converted to the type int32\n",
      "weight PartitionedCall/model_1/tf.strided_slice_7/ones_like with shape (4,) and dtype int64 was auto converted to the type int32\n",
      "weight 29252 with shape (4,) and dtype int64 was auto converted to the type int32\n",
      "weight 29254 with shape (4,) and dtype int64 was auto converted to the type int32\n",
      "weight PartitionedCall/model_1/tf.strided_slice_9/ones_like with shape (4,) and dtype int64 was auto converted to the type int32\n",
      "weight 29312 with shape (4,) and dtype int64 was auto converted to the type int32\n",
      "weight 29314 with shape (4,) and dtype int64 was auto converted to the type int32\n",
      "weight PartitionedCall/model_1/tf.strided_slice_11/ones_like with shape (4,) and dtype int64 was auto converted to the type int32\n",
      "weight 29334 with shape (4,) and dtype int64 was auto converted to the type int32\n",
      "weight 29336 with shape (4,) and dtype int64 was auto converted to the type int32\n",
      "weight PartitionedCall/model_1/tf.strided_slice_13/ones_like with shape (4,) and dtype int64 was auto converted to the type int32\n",
      "weight 29634 with shape (4,) and dtype int64 was auto converted to the type int32\n",
      "weight 29636 with shape (4,) and dtype int64 was auto converted to the type int32\n",
      "weight PartitionedCall/model_1/tf.strided_slice_25/ones_like with shape (4,) and dtype int64 was auto converted to the type int32\n",
      "weight 29786 with shape (3,) and dtype int64 was auto converted to the type int32\n",
      "weight 29788 with shape (3,) and dtype int64 was auto converted to the type int32\n",
      "weight PartitionedCall/model_1/tf.strided_slice_27/StridedSlice/strides with shape (3,) and dtype int64 was auto converted to the type int32\n",
      "\u001b[34m\u001b[1mTensorFlow.js:\u001b[0m export success ✅ 3.7s, saved as 'yolov9c_web_model' (97.3 MB)\n",
      "\n",
      "Export complete (28.1s)\n",
      "Results saved to \u001b[1m/home/hanyong/yolov9\u001b[0m\n",
      "Predict:         yolo predict task=detect model=yolov9c_web_model imgsz=640  \n",
      "Validate:        yolo val task=detect model=yolov9c_web_model imgsz=640 data=/usr/src/ultralytics/ultralytics/cfg/datasets/coco.yaml  \n",
      "Visualize:       https://netron.app\n"
     ]
    }
   ],
   "source": [
    "import os\n",
    "\n",
    "os.environ[\"CUDA_VISIBLE_DEVICES\"] = \"0\"\n",
    "\n",
    "from ultralytics import YOLO\n",
    "\n",
    "# Format                  | `format=argument`         | Model\n",
    "# ---                     | ---                       | ---\n",
    "# PyTorch                 | -                         | yolov8n.pt\n",
    "# TorchScript             | `torchscript`             | yolov8n.torchscript\n",
    "# ONNX                    | `onnx`                    | yolov8n.onnx\n",
    "# OpenVINO                | `openvino`                | yolov8n_openvino_model/\n",
    "# TensorRT                | `engine`                  | yolov8n.engine\n",
    "# CoreML                  | `coreml`                  | yolov8n.mlpackage\n",
    "# TensorFlow SavedModel   | `saved_model`             | yolov8n_saved_model/\n",
    "# TensorFlow GraphDef     | `pb`                      | yolov8n.pb\n",
    "# TensorFlow Lite         | `tflite`                  | yolov8n.tflite\n",
    "# TensorFlow Edge TPU     | `edgetpu`                 | yolov8n_edgetpu.tflite\n",
    "# TensorFlow.js           | `tfjs`                    | yolov8n_web_model/\n",
    "# PaddlePaddle            | `paddle`                  | yolov8n_paddle_model/\n",
    "# NCNN                    | `ncnn`                    | yolov8n_ncnn_model/\n",
    "\n",
    "# More information\n",
    "# https://docs.ultralytics.com/modes/export/#arguments\n",
    "\n",
    "# Load a model\n",
    "model = YOLO(\"yolov9c.pt\")\n",
    "\n",
    "path = model.export(\n",
    "    format=\"tfjs\",\n",
    "    imgsz=640,\n",
    "    # int8=True, # disabled for tfjs\n",
    "    # optimize=True,  # for torchscript\n",
    ")"
   ]
  },
  {
   "cell_type": "code",
   "execution_count": null,
   "metadata": {},
   "outputs": [],
   "source": []
  }
 ],
 "metadata": {
  "kernelspec": {
   "display_name": "yolov9",
   "language": "python",
   "name": "python3"
  },
  "language_info": {
   "codemirror_mode": {
    "name": "ipython",
    "version": 3
   },
   "file_extension": ".py",
   "mimetype": "text/x-python",
   "name": "python",
   "nbconvert_exporter": "python",
   "pygments_lexer": "ipython3",
   "version": "3.10.14"
  }
 },
 "nbformat": 4,
 "nbformat_minor": 2
}
