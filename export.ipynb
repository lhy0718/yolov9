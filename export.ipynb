{
 "cells": [
  {
   "cell_type": "code",
   "execution_count": 3,
   "metadata": {},
   "outputs": [
    {
     "name": "stdout",
     "output_type": "stream",
     "text": [
      "Ultralytics YOLOv8.2.82 🚀 Python-3.9.19 torch-2.4.0+cu121 CPU (Intel Core(TM) i9-14900K)\n"
     ]
    },
    {
     "name": "stderr",
     "output_type": "stream",
     "text": [
      "Fusing layers... \n",
      "gelan-t summary: 489 layers, 2001840 parameters, 0 gradients, 7.7 GFLOPs\n"
     ]
    },
    {
     "name": "stdout",
     "output_type": "stream",
     "text": [
      "\n",
      "\u001b[34m\u001b[1mPyTorch:\u001b[0m starting from 'yolov9-t-converted.pt' with input shape (1, 3, 640, 640) BCHW and output shape(s) ((1, 84, 8400), ()) (4.4 MB)\n",
      "\n",
      "\u001b[34m\u001b[1mTensorFlow SavedModel:\u001b[0m starting export with tensorflow 2.17.0...\n",
      "\n",
      "\u001b[34m\u001b[1mONNX:\u001b[0m starting export with onnx 1.16.2 opset 19...\n",
      "\u001b[34m\u001b[1mONNX:\u001b[0m slimming with onnxslim 0.1.32...\n",
      "\u001b[34m\u001b[1mONNX:\u001b[0m export success ✅ 0.8s, saved as 'yolov9-t-converted.onnx' (8.0 MB)\n",
      "\u001b[34m\u001b[1mTensorFlow SavedModel:\u001b[0m starting TFLite export with onnx2tf 1.20.0...\n",
      "\n",
      "\u001b[07mAutomatic generation of each OP name started\u001b[0m ========================================\n",
      "\u001b[32mAutomatic generation of each OP name complete!\u001b[0m\n",
      "\n",
      "\u001b[07mModel loaded\u001b[0m ========================================================================\n",
      "\n",
      "\u001b[07mModel conversion started\u001b[0m ============================================================\n",
      "\u001b[07msaved_model output started\u001b[0m ==========================================================\n",
      "\u001b[32msaved_model output complete!\u001b[0m\n"
     ]
    },
    {
     "name": "stderr",
     "output_type": "stream",
     "text": [
      "I0000 00:00:1724959576.802674  118208 devices.cc:67] Number of eligible GPUs (core count >= 8, compute capability >= 0.0): 0\n",
      "W0000 00:00:1724959577.208303  118208 tf_tfl_flatbuffer_helpers.cc:392] Ignored output_format.\n",
      "W0000 00:00:1724959577.208322  118208 tf_tfl_flatbuffer_helpers.cc:395] Ignored drop_control_dependency.\n"
     ]
    },
    {
     "name": "stdout",
     "output_type": "stream",
     "text": [
      "\u001b[32mFloat32 tflite output complete!\u001b[0m\n"
     ]
    },
    {
     "name": "stderr",
     "output_type": "stream",
     "text": [
      "I0000 00:00:1724959577.649405  118208 devices.cc:67] Number of eligible GPUs (core count >= 8, compute capability >= 0.0): 0\n",
      "W0000 00:00:1724959578.031358  118208 tf_tfl_flatbuffer_helpers.cc:392] Ignored output_format.\n",
      "W0000 00:00:1724959578.031378  118208 tf_tfl_flatbuffer_helpers.cc:395] Ignored drop_control_dependency.\n"
     ]
    },
    {
     "name": "stdout",
     "output_type": "stream",
     "text": [
      "\u001b[32mFloat16 tflite output complete!\u001b[0m\n",
      "\u001b[34mInput signature information for quantization\u001b[0m\n",
      "\u001b[34msignature_name\u001b[0m: serving_default\n",
      "\u001b[34minput_name.0\u001b[0m: images \u001b[34mshape\u001b[0m: (1, 640, 640, 3) \u001b[34mdtype\u001b[0m: <dtype: 'float32'>\n"
     ]
    },
    {
     "name": "stderr",
     "output_type": "stream",
     "text": [
      "W0000 00:00:1724959580.262886  118208 tf_tfl_flatbuffer_helpers.cc:392] Ignored output_format.\n",
      "W0000 00:00:1724959580.262901  118208 tf_tfl_flatbuffer_helpers.cc:395] Ignored drop_control_dependency.\n"
     ]
    },
    {
     "name": "stdout",
     "output_type": "stream",
     "text": [
      "\u001b[32mDynamic Range Quantization tflite output complete!\u001b[0m\n"
     ]
    },
    {
     "name": "stderr",
     "output_type": "stream",
     "text": [
      "W0000 00:00:1724959581.090328  118208 tf_tfl_flatbuffer_helpers.cc:392] Ignored output_format.\n",
      "W0000 00:00:1724959581.090343  118208 tf_tfl_flatbuffer_helpers.cc:395] Ignored drop_control_dependency.\n",
      "fully_quantize: 0, inference_type: 6, input_inference_type: FLOAT32, output_inference_type: FLOAT32\n"
     ]
    },
    {
     "name": "stdout",
     "output_type": "stream",
     "text": [
      "\u001b[32mINT8 Quantization tflite output complete!\u001b[0m\n"
     ]
    },
    {
     "name": "stderr",
     "output_type": "stream",
     "text": [
      "W0000 00:00:1724959595.109239  118208 tf_tfl_flatbuffer_helpers.cc:392] Ignored output_format.\n",
      "W0000 00:00:1724959595.109255  118208 tf_tfl_flatbuffer_helpers.cc:395] Ignored drop_control_dependency.\n",
      "fully_quantize: 0, inference_type: 6, input_inference_type: INT8, output_inference_type: INT8\n"
     ]
    },
    {
     "name": "stdout",
     "output_type": "stream",
     "text": [
      "\u001b[32mFull INT8 Quantization tflite output complete!\u001b[0m\n"
     ]
    },
    {
     "name": "stderr",
     "output_type": "stream",
     "text": [
      "W0000 00:00:1724959609.058794  118208 tf_tfl_flatbuffer_helpers.cc:392] Ignored output_format.\n",
      "W0000 00:00:1724959609.058809  118208 tf_tfl_flatbuffer_helpers.cc:395] Ignored drop_control_dependency.\n"
     ]
    },
    {
     "name": "stdout",
     "output_type": "stream",
     "text": [
      "\u001b[32mINT8 Quantization with int16 activations tflite output complete!\u001b[0m\n"
     ]
    },
    {
     "name": "stderr",
     "output_type": "stream",
     "text": [
      "W0000 00:00:1724959635.833547  118208 tf_tfl_flatbuffer_helpers.cc:392] Ignored output_format.\n",
      "W0000 00:00:1724959635.833561  118208 tf_tfl_flatbuffer_helpers.cc:395] Ignored drop_control_dependency.\n"
     ]
    },
    {
     "name": "stdout",
     "output_type": "stream",
     "text": [
      "\u001b[32mFull INT8 Quantization with int16 activations tflite output complete!\u001b[0m\n",
      "\u001b[34m\u001b[1mTensorFlow SavedModel:\u001b[0m export failure ❌ 98.7s: The number of output tensors (4) should match the number of output tensor metadata (1)\n"
     ]
    },
    {
     "ename": "ValueError",
     "evalue": "The number of output tensors (4) should match the number of output tensor metadata (1)",
     "output_type": "error",
     "traceback": [
      "\u001b[0;31m---------------------------------------------------------------------------\u001b[0m",
      "\u001b[0;31mValueError\u001b[0m                                Traceback (most recent call last)",
      "Cell \u001b[0;32mIn[3], line 29\u001b[0m\n\u001b[1;32m      7\u001b[0m \u001b[38;5;66;03m# Format                  | `format=argument`         | Model\u001b[39;00m\n\u001b[1;32m      8\u001b[0m \u001b[38;5;66;03m# ---                     | ---                       | ---\u001b[39;00m\n\u001b[1;32m      9\u001b[0m \u001b[38;5;66;03m# PyTorch                 | -                         | yolov8n.pt\u001b[39;00m\n\u001b[0;32m   (...)\u001b[0m\n\u001b[1;32m     25\u001b[0m \n\u001b[1;32m     26\u001b[0m \u001b[38;5;66;03m# Load a model\u001b[39;00m\n\u001b[1;32m     27\u001b[0m model \u001b[38;5;241m=\u001b[39m YOLO(\u001b[38;5;124m\"\u001b[39m\u001b[38;5;124myolov9-t-converted.pt\u001b[39m\u001b[38;5;124m\"\u001b[39m)\n\u001b[0;32m---> 29\u001b[0m path \u001b[38;5;241m=\u001b[39m \u001b[43mmodel\u001b[49m\u001b[38;5;241;43m.\u001b[39;49m\u001b[43mexport\u001b[49m\u001b[43m(\u001b[49m\u001b[38;5;28;43mformat\u001b[39;49m\u001b[38;5;241;43m=\u001b[39;49m\u001b[38;5;124;43m\"\u001b[39;49m\u001b[38;5;124;43medgetpu\u001b[39;49m\u001b[38;5;124;43m\"\u001b[39;49m\u001b[43m)\u001b[49m\n",
      "File \u001b[0;32m~/miniconda3/envs/etri/lib/python3.9/site-packages/ultralytics/engine/model.py:745\u001b[0m, in \u001b[0;36mModel.export\u001b[0;34m(self, **kwargs)\u001b[0m\n\u001b[1;32m    737\u001b[0m custom \u001b[38;5;241m=\u001b[39m {\n\u001b[1;32m    738\u001b[0m     \u001b[38;5;124m\"\u001b[39m\u001b[38;5;124mimgsz\u001b[39m\u001b[38;5;124m\"\u001b[39m: \u001b[38;5;28mself\u001b[39m\u001b[38;5;241m.\u001b[39mmodel\u001b[38;5;241m.\u001b[39margs[\u001b[38;5;124m\"\u001b[39m\u001b[38;5;124mimgsz\u001b[39m\u001b[38;5;124m\"\u001b[39m],\n\u001b[1;32m    739\u001b[0m     \u001b[38;5;124m\"\u001b[39m\u001b[38;5;124mbatch\u001b[39m\u001b[38;5;124m\"\u001b[39m: \u001b[38;5;241m1\u001b[39m,\n\u001b[0;32m   (...)\u001b[0m\n\u001b[1;32m    742\u001b[0m     \u001b[38;5;124m\"\u001b[39m\u001b[38;5;124mverbose\u001b[39m\u001b[38;5;124m\"\u001b[39m: \u001b[38;5;28;01mFalse\u001b[39;00m,\n\u001b[1;32m    743\u001b[0m }  \u001b[38;5;66;03m# method defaults\u001b[39;00m\n\u001b[1;32m    744\u001b[0m args \u001b[38;5;241m=\u001b[39m {\u001b[38;5;241m*\u001b[39m\u001b[38;5;241m*\u001b[39m\u001b[38;5;28mself\u001b[39m\u001b[38;5;241m.\u001b[39moverrides, \u001b[38;5;241m*\u001b[39m\u001b[38;5;241m*\u001b[39mcustom, \u001b[38;5;241m*\u001b[39m\u001b[38;5;241m*\u001b[39mkwargs, \u001b[38;5;124m\"\u001b[39m\u001b[38;5;124mmode\u001b[39m\u001b[38;5;124m\"\u001b[39m: \u001b[38;5;124m\"\u001b[39m\u001b[38;5;124mexport\u001b[39m\u001b[38;5;124m\"\u001b[39m}  \u001b[38;5;66;03m# highest priority args on the right\u001b[39;00m\n\u001b[0;32m--> 745\u001b[0m \u001b[38;5;28;01mreturn\u001b[39;00m \u001b[43mExporter\u001b[49m\u001b[43m(\u001b[49m\u001b[43moverrides\u001b[49m\u001b[38;5;241;43m=\u001b[39;49m\u001b[43margs\u001b[49m\u001b[43m,\u001b[49m\u001b[43m \u001b[49m\u001b[43m_callbacks\u001b[49m\u001b[38;5;241;43m=\u001b[39;49m\u001b[38;5;28;43mself\u001b[39;49m\u001b[38;5;241;43m.\u001b[39;49m\u001b[43mcallbacks\u001b[49m\u001b[43m)\u001b[49m\u001b[43m(\u001b[49m\u001b[43mmodel\u001b[49m\u001b[38;5;241;43m=\u001b[39;49m\u001b[38;5;28;43mself\u001b[39;49m\u001b[38;5;241;43m.\u001b[39;49m\u001b[43mmodel\u001b[49m\u001b[43m)\u001b[49m\n",
      "File \u001b[0;32m~/miniconda3/envs/etri/lib/python3.9/site-packages/torch/utils/_contextlib.py:116\u001b[0m, in \u001b[0;36mcontext_decorator.<locals>.decorate_context\u001b[0;34m(*args, **kwargs)\u001b[0m\n\u001b[1;32m    113\u001b[0m \u001b[38;5;129m@functools\u001b[39m\u001b[38;5;241m.\u001b[39mwraps(func)\n\u001b[1;32m    114\u001b[0m \u001b[38;5;28;01mdef\u001b[39;00m \u001b[38;5;21mdecorate_context\u001b[39m(\u001b[38;5;241m*\u001b[39margs, \u001b[38;5;241m*\u001b[39m\u001b[38;5;241m*\u001b[39mkwargs):\n\u001b[1;32m    115\u001b[0m     \u001b[38;5;28;01mwith\u001b[39;00m ctx_factory():\n\u001b[0;32m--> 116\u001b[0m         \u001b[38;5;28;01mreturn\u001b[39;00m \u001b[43mfunc\u001b[49m\u001b[43m(\u001b[49m\u001b[38;5;241;43m*\u001b[39;49m\u001b[43margs\u001b[49m\u001b[43m,\u001b[49m\u001b[43m \u001b[49m\u001b[38;5;241;43m*\u001b[39;49m\u001b[38;5;241;43m*\u001b[39;49m\u001b[43mkwargs\u001b[49m\u001b[43m)\u001b[49m\n",
      "File \u001b[0;32m~/miniconda3/envs/etri/lib/python3.9/site-packages/ultralytics/engine/exporter.py:313\u001b[0m, in \u001b[0;36mExporter.__call__\u001b[0;34m(self, model)\u001b[0m\n\u001b[1;32m    311\u001b[0m \u001b[38;5;28;01mif\u001b[39;00m is_tf_format:  \u001b[38;5;66;03m# TensorFlow formats\u001b[39;00m\n\u001b[1;32m    312\u001b[0m     \u001b[38;5;28mself\u001b[39m\u001b[38;5;241m.\u001b[39margs\u001b[38;5;241m.\u001b[39mint8 \u001b[38;5;241m|\u001b[39m\u001b[38;5;241m=\u001b[39m edgetpu\n\u001b[0;32m--> 313\u001b[0m     f[\u001b[38;5;241m5\u001b[39m], keras_model \u001b[38;5;241m=\u001b[39m \u001b[38;5;28;43mself\u001b[39;49m\u001b[38;5;241;43m.\u001b[39;49m\u001b[43mexport_saved_model\u001b[49m\u001b[43m(\u001b[49m\u001b[43m)\u001b[49m\n\u001b[1;32m    314\u001b[0m     \u001b[38;5;28;01mif\u001b[39;00m pb \u001b[38;5;129;01mor\u001b[39;00m tfjs:  \u001b[38;5;66;03m# pb prerequisite to tfjs\u001b[39;00m\n\u001b[1;32m    315\u001b[0m         f[\u001b[38;5;241m6\u001b[39m], _ \u001b[38;5;241m=\u001b[39m \u001b[38;5;28mself\u001b[39m\u001b[38;5;241m.\u001b[39mexport_pb(keras_model\u001b[38;5;241m=\u001b[39mkeras_model)\n",
      "File \u001b[0;32m~/miniconda3/envs/etri/lib/python3.9/site-packages/ultralytics/engine/exporter.py:142\u001b[0m, in \u001b[0;36mtry_export.<locals>.outer_func\u001b[0;34m(*args, **kwargs)\u001b[0m\n\u001b[1;32m    140\u001b[0m \u001b[38;5;28;01mexcept\u001b[39;00m \u001b[38;5;167;01mException\u001b[39;00m \u001b[38;5;28;01mas\u001b[39;00m e:\n\u001b[1;32m    141\u001b[0m     LOGGER\u001b[38;5;241m.\u001b[39minfo(\u001b[38;5;124mf\u001b[39m\u001b[38;5;124m\"\u001b[39m\u001b[38;5;132;01m{\u001b[39;00mprefix\u001b[38;5;132;01m}\u001b[39;00m\u001b[38;5;124m export failure ❌ \u001b[39m\u001b[38;5;132;01m{\u001b[39;00mdt\u001b[38;5;241m.\u001b[39mt\u001b[38;5;132;01m:\u001b[39;00m\u001b[38;5;124m.1f\u001b[39m\u001b[38;5;132;01m}\u001b[39;00m\u001b[38;5;124ms: \u001b[39m\u001b[38;5;132;01m{\u001b[39;00me\u001b[38;5;132;01m}\u001b[39;00m\u001b[38;5;124m\"\u001b[39m)\n\u001b[0;32m--> 142\u001b[0m     \u001b[38;5;28;01mraise\u001b[39;00m e\n",
      "File \u001b[0;32m~/miniconda3/envs/etri/lib/python3.9/site-packages/ultralytics/engine/exporter.py:137\u001b[0m, in \u001b[0;36mtry_export.<locals>.outer_func\u001b[0;34m(*args, **kwargs)\u001b[0m\n\u001b[1;32m    135\u001b[0m \u001b[38;5;28;01mtry\u001b[39;00m:\n\u001b[1;32m    136\u001b[0m     \u001b[38;5;28;01mwith\u001b[39;00m Profile() \u001b[38;5;28;01mas\u001b[39;00m dt:\n\u001b[0;32m--> 137\u001b[0m         f, model \u001b[38;5;241m=\u001b[39m \u001b[43minner_func\u001b[49m\u001b[43m(\u001b[49m\u001b[38;5;241;43m*\u001b[39;49m\u001b[43margs\u001b[49m\u001b[43m,\u001b[49m\u001b[43m \u001b[49m\u001b[38;5;241;43m*\u001b[39;49m\u001b[38;5;241;43m*\u001b[39;49m\u001b[43mkwargs\u001b[49m\u001b[43m)\u001b[49m\n\u001b[1;32m    138\u001b[0m     LOGGER\u001b[38;5;241m.\u001b[39minfo(\u001b[38;5;124mf\u001b[39m\u001b[38;5;124m\"\u001b[39m\u001b[38;5;132;01m{\u001b[39;00mprefix\u001b[38;5;132;01m}\u001b[39;00m\u001b[38;5;124m export success ✅ \u001b[39m\u001b[38;5;132;01m{\u001b[39;00mdt\u001b[38;5;241m.\u001b[39mt\u001b[38;5;132;01m:\u001b[39;00m\u001b[38;5;124m.1f\u001b[39m\u001b[38;5;132;01m}\u001b[39;00m\u001b[38;5;124ms, saved as \u001b[39m\u001b[38;5;124m'\u001b[39m\u001b[38;5;132;01m{\u001b[39;00mf\u001b[38;5;132;01m}\u001b[39;00m\u001b[38;5;124m'\u001b[39m\u001b[38;5;124m (\u001b[39m\u001b[38;5;132;01m{\u001b[39;00mfile_size(f)\u001b[38;5;132;01m:\u001b[39;00m\u001b[38;5;124m.1f\u001b[39m\u001b[38;5;132;01m}\u001b[39;00m\u001b[38;5;124m MB)\u001b[39m\u001b[38;5;124m\"\u001b[39m)\n\u001b[1;32m    139\u001b[0m     \u001b[38;5;28;01mreturn\u001b[39;00m f, model\n",
      "File \u001b[0;32m~/miniconda3/envs/etri/lib/python3.9/site-packages/ultralytics/engine/exporter.py:901\u001b[0m, in \u001b[0;36mExporter.export_saved_model\u001b[0;34m(self, prefix)\u001b[0m\n\u001b[1;32m    899\u001b[0m \u001b[38;5;66;03m# Add TFLite metadata\u001b[39;00m\n\u001b[1;32m    900\u001b[0m \u001b[38;5;28;01mfor\u001b[39;00m file \u001b[38;5;129;01min\u001b[39;00m f\u001b[38;5;241m.\u001b[39mrglob(\u001b[38;5;124m\"\u001b[39m\u001b[38;5;124m*.tflite\u001b[39m\u001b[38;5;124m\"\u001b[39m):\n\u001b[0;32m--> 901\u001b[0m     f\u001b[38;5;241m.\u001b[39munlink() \u001b[38;5;28;01mif\u001b[39;00m \u001b[38;5;124m\"\u001b[39m\u001b[38;5;124mquant_with_int16_act.tflite\u001b[39m\u001b[38;5;124m\"\u001b[39m \u001b[38;5;129;01min\u001b[39;00m \u001b[38;5;28mstr\u001b[39m(f) \u001b[38;5;28;01melse\u001b[39;00m \u001b[38;5;28;43mself\u001b[39;49m\u001b[38;5;241;43m.\u001b[39;49m\u001b[43m_add_tflite_metadata\u001b[49m\u001b[43m(\u001b[49m\u001b[43mfile\u001b[49m\u001b[43m)\u001b[49m\n\u001b[1;32m    903\u001b[0m \u001b[38;5;28;01mreturn\u001b[39;00m \u001b[38;5;28mstr\u001b[39m(f), tf\u001b[38;5;241m.\u001b[39msaved_model\u001b[38;5;241m.\u001b[39mload(f, tags\u001b[38;5;241m=\u001b[39m\u001b[38;5;28;01mNone\u001b[39;00m, options\u001b[38;5;241m=\u001b[39m\u001b[38;5;28;01mNone\u001b[39;00m)\n",
      "File \u001b[0;32m~/miniconda3/envs/etri/lib/python3.9/site-packages/ultralytics/engine/exporter.py:1075\u001b[0m, in \u001b[0;36mExporter._add_tflite_metadata\u001b[0;34m(self, file)\u001b[0m\n\u001b[1;32m   1072\u001b[0m metadata_buf \u001b[38;5;241m=\u001b[39m b\u001b[38;5;241m.\u001b[39mOutput()\n\u001b[1;32m   1074\u001b[0m populator \u001b[38;5;241m=\u001b[39m metadata\u001b[38;5;241m.\u001b[39mMetadataPopulator\u001b[38;5;241m.\u001b[39mwith_model_file(\u001b[38;5;28mstr\u001b[39m(file))\n\u001b[0;32m-> 1075\u001b[0m \u001b[43mpopulator\u001b[49m\u001b[38;5;241;43m.\u001b[39;49m\u001b[43mload_metadata_buffer\u001b[49m\u001b[43m(\u001b[49m\u001b[43mmetadata_buf\u001b[49m\u001b[43m)\u001b[49m\n\u001b[1;32m   1076\u001b[0m populator\u001b[38;5;241m.\u001b[39mload_associated_files([\u001b[38;5;28mstr\u001b[39m(tmp_file)])\n\u001b[1;32m   1077\u001b[0m populator\u001b[38;5;241m.\u001b[39mpopulate()\n",
      "File \u001b[0;32m~/miniconda3/envs/etri/lib/python3.9/site-packages/tensorflow_lite_support/metadata/python/metadata.py:302\u001b[0m, in \u001b[0;36mMetadataPopulator.load_metadata_buffer\u001b[0;34m(self, metadata_buf)\u001b[0m\n\u001b[1;32m    299\u001b[0m \u001b[38;5;28;01mif\u001b[39;00m \u001b[38;5;129;01mnot\u001b[39;00m metadata_buf:\n\u001b[1;32m    300\u001b[0m   \u001b[38;5;28;01mraise\u001b[39;00m \u001b[38;5;167;01mValueError\u001b[39;00m(\u001b[38;5;124m\"\u001b[39m\u001b[38;5;124mThe metadata to be populated is empty.\u001b[39m\u001b[38;5;124m\"\u001b[39m)\n\u001b[0;32m--> 302\u001b[0m \u001b[38;5;28;43mself\u001b[39;49m\u001b[38;5;241;43m.\u001b[39;49m\u001b[43m_validate_metadata\u001b[49m\u001b[43m(\u001b[49m\u001b[43mmetadata_buf\u001b[49m\u001b[43m)\u001b[49m\n\u001b[1;32m    304\u001b[0m \u001b[38;5;66;03m# Gets the minimum metadata parser version of the metadata_buf.\u001b[39;00m\n\u001b[1;32m    305\u001b[0m min_version \u001b[38;5;241m=\u001b[39m _pywrap_metadata_version\u001b[38;5;241m.\u001b[39mGetMinimumMetadataParserVersion(\n\u001b[1;32m    306\u001b[0m     \u001b[38;5;28mbytes\u001b[39m(metadata_buf))\n",
      "File \u001b[0;32m~/miniconda3/envs/etri/lib/python3.9/site-packages/tensorflow_lite_support/metadata/python/metadata.py:639\u001b[0m, in \u001b[0;36mMetadataPopulator._validate_metadata\u001b[0;34m(self, metadata_buf)\u001b[0m\n\u001b[1;32m    636\u001b[0m num_output_meta \u001b[38;5;241m=\u001b[39m model_meta\u001b[38;5;241m.\u001b[39mSubgraphMetadata(\n\u001b[1;32m    637\u001b[0m     \u001b[38;5;241m0\u001b[39m)\u001b[38;5;241m.\u001b[39mOutputTensorMetadataLength()\n\u001b[1;32m    638\u001b[0m \u001b[38;5;28;01mif\u001b[39;00m num_output_tensors \u001b[38;5;241m!=\u001b[39m num_output_meta:\n\u001b[0;32m--> 639\u001b[0m   \u001b[38;5;28;01mraise\u001b[39;00m \u001b[38;5;167;01mValueError\u001b[39;00m(\n\u001b[1;32m    640\u001b[0m       \u001b[38;5;124m\"\u001b[39m\u001b[38;5;124mThe number of output tensors (\u001b[39m\u001b[38;5;132;01m{0}\u001b[39;00m\u001b[38;5;124m) should match the number of \u001b[39m\u001b[38;5;124m\"\u001b[39m\n\u001b[1;32m    641\u001b[0m       \u001b[38;5;124m\"\u001b[39m\u001b[38;5;124moutput tensor metadata (\u001b[39m\u001b[38;5;132;01m{1}\u001b[39;00m\u001b[38;5;124m)\u001b[39m\u001b[38;5;124m\"\u001b[39m\u001b[38;5;241m.\u001b[39mformat(num_output_tensors,\n\u001b[1;32m    642\u001b[0m                                             num_output_meta))\n",
      "\u001b[0;31mValueError\u001b[0m: The number of output tensors (4) should match the number of output tensor metadata (1)"
     ]
    }
   ],
   "source": [
    "import os\n",
    "\n",
    "os.environ[\"CUDA_VISIBLE_DEVICES\"] = \"0\"\n",
    "\n",
    "from ultralytics import YOLO\n",
    "\n",
    "# Format                  | `format=argument`         | Model\n",
    "# ---                     | ---                       | ---\n",
    "# PyTorch                 | -                         | yolov8n.pt\n",
    "# TorchScript             | `torchscript`             | yolov8n.torchscript\n",
    "# ONNX                    | `onnx`                    | yolov8n.onnx\n",
    "# OpenVINO                | `openvino`                | yolov8n_openvino_model/\n",
    "# TensorRT                | `engine`                  | yolov8n.engine\n",
    "# CoreML                  | `coreml`                  | yolov8n.mlpackage\n",
    "# TensorFlow SavedModel   | `saved_model`             | yolov8n_saved_model/\n",
    "# TensorFlow GraphDef     | `pb`                      | yolov8n.pb\n",
    "# TensorFlow Lite         | `tflite`                  | yolov8n.tflite\n",
    "# TensorFlow Edge TPU     | `edgetpu`                 | yolov8n_edgetpu.tflite\n",
    "# TensorFlow.js           | `tfjs`                    | yolov8n_web_model/\n",
    "# PaddlePaddle            | `paddle`                  | yolov8n_paddle_model/\n",
    "# NCNN                    | `ncnn`                    | yolov8n_ncnn_model/\n",
    "\n",
    "# More information\n",
    "# https://docs.ultralytics.com/modes/export/#arguments\n",
    "\n",
    "# Load a model\n",
    "model = YOLO(\"yolov9-t-converted.pt\")\n",
    "\n",
    "path = model.export(format=\"edgetpu\")"
   ]
  },
  {
   "cell_type": "code",
   "execution_count": null,
   "metadata": {},
   "outputs": [],
   "source": []
  }
 ],
 "metadata": {
  "kernelspec": {
   "display_name": "yolov9",
   "language": "python",
   "name": "python3"
  },
  "language_info": {
   "codemirror_mode": {
    "name": "ipython",
    "version": 3
   },
   "file_extension": ".py",
   "mimetype": "text/x-python",
   "name": "python",
   "nbconvert_exporter": "python",
   "pygments_lexer": "ipython3",
   "version": "3.9.19"
  }
 },
 "nbformat": 4,
 "nbformat_minor": 2
}
