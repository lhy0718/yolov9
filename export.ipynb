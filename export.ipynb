{
 "cells": [
  {
   "cell_type": "code",
   "execution_count": 1,
   "metadata": {},
   "outputs": [
    {
     "name": "stdout",
     "output_type": "stream",
     "text": [
      "Ultralytics YOLOv8.2.82 🚀 Python-3.9.19 torch-2.4.0+cu121 CPU (Intel Core(TM) i9-14900K)\n"
     ]
    },
    {
     "name": "stderr",
     "output_type": "stream",
     "text": [
      "Fusing layers... \n",
      "gelan-s summary: 489 layers, 7105888 parameters, 0 gradients, 26.4 GFLOPs\n"
     ]
    },
    {
     "name": "stdout",
     "output_type": "stream",
     "text": [
      "\n",
      "\u001b[34m\u001b[1mPyTorch:\u001b[0m starting from 'yolov9-s-converted.pt' with input shape (1, 3, 320, 320) BCHW and output shape(s) (1, 84, 2100) (14.3 MB)\n",
      "\n",
      "\u001b[34m\u001b[1mTensorFlow SavedModel:\u001b[0m starting export with tensorflow 2.17.0...\n",
      "\n",
      "\u001b[34m\u001b[1mONNX:\u001b[0m starting export with onnx 1.16.2 opset 19...\n",
      "\u001b[34m\u001b[1mONNX:\u001b[0m slimming with onnxslim 0.1.32...\n",
      "\u001b[34m\u001b[1mONNX:\u001b[0m export success ✅ 1.0s, saved as 'yolov9-s-converted.onnx' (27.4 MB)\n",
      "\u001b[34m\u001b[1mTensorFlow SavedModel:\u001b[0m starting TFLite export with onnx2tf 1.20.0...\n",
      "\n",
      "\u001b[07mAutomatic generation of each OP name started\u001b[0m ========================================\n",
      "\u001b[32mAutomatic generation of each OP name complete!\u001b[0m\n",
      "\n",
      "\u001b[07mModel loaded\u001b[0m ========================================================================\n",
      "\n",
      "\u001b[07mModel conversion started\u001b[0m ============================================================\n",
      "\u001b[07msaved_model output started\u001b[0m ==========================================================\n",
      "\u001b[32msaved_model output complete!\u001b[0m\n"
     ]
    },
    {
     "name": "stderr",
     "output_type": "stream",
     "text": [
      "WARNING: All log messages before absl::InitializeLog() is called are written to STDERR\n",
      "I0000 00:00:1731001263.813904 3330559 devices.cc:67] Number of eligible GPUs (core count >= 8, compute capability >= 0.0): 0\n",
      "WARNING: All log messages before absl::InitializeLog() is called are written to STDERR\n",
      "W0000 00:00:1731001264.341339 3330559 tf_tfl_flatbuffer_helpers.cc:392] Ignored output_format.\n",
      "W0000 00:00:1731001264.341362 3330559 tf_tfl_flatbuffer_helpers.cc:395] Ignored drop_control_dependency.\n"
     ]
    },
    {
     "name": "stdout",
     "output_type": "stream",
     "text": [
      "\u001b[32mFloat32 tflite output complete!\u001b[0m\n"
     ]
    },
    {
     "name": "stderr",
     "output_type": "stream",
     "text": [
      "I0000 00:00:1731001264.872233 3330559 devices.cc:67] Number of eligible GPUs (core count >= 8, compute capability >= 0.0): 0\n",
      "W0000 00:00:1731001265.380831 3330559 tf_tfl_flatbuffer_helpers.cc:392] Ignored output_format.\n",
      "W0000 00:00:1731001265.380850 3330559 tf_tfl_flatbuffer_helpers.cc:395] Ignored drop_control_dependency.\n"
     ]
    },
    {
     "name": "stdout",
     "output_type": "stream",
     "text": [
      "\u001b[32mFloat16 tflite output complete!\u001b[0m\n",
      "\u001b[34mInput signature information for quantization\u001b[0m\n",
      "\u001b[34msignature_name\u001b[0m: serving_default\n",
      "\u001b[34minput_name.0\u001b[0m: images \u001b[34mshape\u001b[0m: (1, 320, 320, 3) \u001b[34mdtype\u001b[0m: <dtype: 'float32'>\n"
     ]
    },
    {
     "name": "stderr",
     "output_type": "stream",
     "text": [
      "W0000 00:00:1731001267.590888 3330559 tf_tfl_flatbuffer_helpers.cc:392] Ignored output_format.\n",
      "W0000 00:00:1731001267.590905 3330559 tf_tfl_flatbuffer_helpers.cc:395] Ignored drop_control_dependency.\n"
     ]
    },
    {
     "name": "stdout",
     "output_type": "stream",
     "text": [
      "\u001b[32mDynamic Range Quantization tflite output complete!\u001b[0m\n"
     ]
    },
    {
     "name": "stderr",
     "output_type": "stream",
     "text": [
      "W0000 00:00:1731001268.715938 3330559 tf_tfl_flatbuffer_helpers.cc:392] Ignored output_format.\n",
      "W0000 00:00:1731001268.715955 3330559 tf_tfl_flatbuffer_helpers.cc:395] Ignored drop_control_dependency.\n",
      "fully_quantize: 0, inference_type: 6, input_inference_type: FLOAT32, output_inference_type: FLOAT32\n"
     ]
    },
    {
     "name": "stdout",
     "output_type": "stream",
     "text": [
      "\u001b[32mINT8 Quantization tflite output complete!\u001b[0m\n"
     ]
    },
    {
     "name": "stderr",
     "output_type": "stream",
     "text": [
      "W0000 00:00:1731001276.090943 3330559 tf_tfl_flatbuffer_helpers.cc:392] Ignored output_format.\n",
      "W0000 00:00:1731001276.090960 3330559 tf_tfl_flatbuffer_helpers.cc:395] Ignored drop_control_dependency.\n",
      "fully_quantize: 0, inference_type: 6, input_inference_type: INT8, output_inference_type: INT8\n"
     ]
    },
    {
     "name": "stdout",
     "output_type": "stream",
     "text": [
      "\u001b[32mFull INT8 Quantization tflite output complete!\u001b[0m\n"
     ]
    },
    {
     "name": "stderr",
     "output_type": "stream",
     "text": [
      "W0000 00:00:1731001283.467457 3330559 tf_tfl_flatbuffer_helpers.cc:392] Ignored output_format.\n",
      "W0000 00:00:1731001283.467474 3330559 tf_tfl_flatbuffer_helpers.cc:395] Ignored drop_control_dependency.\n"
     ]
    },
    {
     "name": "stdout",
     "output_type": "stream",
     "text": [
      "\u001b[32mINT8 Quantization with int16 activations tflite output complete!\u001b[0m\n"
     ]
    },
    {
     "name": "stderr",
     "output_type": "stream",
     "text": [
      "W0000 00:00:1731001296.508668 3330559 tf_tfl_flatbuffer_helpers.cc:392] Ignored output_format.\n",
      "W0000 00:00:1731001296.508686 3330559 tf_tfl_flatbuffer_helpers.cc:395] Ignored drop_control_dependency.\n"
     ]
    },
    {
     "name": "stdout",
     "output_type": "stream",
     "text": [
      "\u001b[32mFull INT8 Quantization with int16 activations tflite output complete!\u001b[0m\n",
      "\u001b[34m\u001b[1mTensorFlow SavedModel:\u001b[0m export success ✅ 69.0s, saved as 'yolov9-s-converted_saved_model' (90.5 MB)\n",
      "\u001b[34m\u001b[1mEdge TPU:\u001b[0m WARNING ⚠️ Edge TPU known bug https://github.com/ultralytics/ultralytics/issues/1185\n",
      "\n",
      "\u001b[34m\u001b[1mEdge TPU:\u001b[0m starting export with Edge TPU compiler 16.0.384591198...\n",
      "\u001b[34m\u001b[1mEdge TPU:\u001b[0m running 'edgetpu_compiler -s -d -k 10 --out_dir \"yolov9-s-converted_saved_model\" \"yolov9-s-converted_saved_model/yolov9-s-converted_full_integer_quant.tflite\"'\n",
      "Edge TPU Compiler version 16.0.384591198\n",
      "Searching for valid delegate with step 10\n",
      "Try to compile segment with 710 ops\n",
      "Started a compilation timeout timer of 180 seconds.\n",
      "\n",
      "Model compiled successfully in 2713 ms.\n",
      "\n",
      "Input model: yolov9-s-converted_saved_model/yolov9-s-converted_full_integer_quant.tflite\n",
      "Input size: 7.02MiB\n",
      "Output model: yolov9-s-converted_saved_model/yolov9-s-converted_full_integer_quant_edgetpu.tflite\n",
      "Output size: 8.09MiB\n",
      "On-chip memory used for caching model parameters: 7.04MiB\n",
      "On-chip memory remaining for caching model parameters: 0.00B\n",
      "Off-chip memory used for streaming uncached model parameters: 486.12KiB\n",
      "Number of Edge TPU subgraphs: 1\n",
      "Total number of operations: 710\n",
      "Operation log: yolov9-s-converted_saved_model/yolov9-s-converted_full_integer_quant_edgetpu.log\n",
      "\n",
      "Model successfully compiled but not all operations are supported by the Edge TPU. A percentage of the model will instead run on the CPU, which is slower. If possible, consider updating your model to use only operations supported by the Edge TPU. For details, visit g.co/coral/model-reqs.\n",
      "Number of operations that will run on Edge TPU: 689\n",
      "Number of operations that will run on CPU: 21\n",
      "\n",
      "Operator                       Count      Status\n",
      "\n",
      "LOGISTIC                       179        Mapped to Edge TPU\n",
      "LOGISTIC                       1          More than one subgraph is not supported\n",
      "AVERAGE_POOL_2D                5          Mapped to Edge TPU\n",
      "MUL                            179        Mapped to Edge TPU\n",
      "MUL                            2          More than one subgraph is not supported\n",
      "ADD                            2          More than one subgraph is not supported\n",
      "ADD                            48         Mapped to Edge TPU\n",
      "MAX_POOL_2D                    3          Mapped to Edge TPU\n",
      "PAD                            7          Mapped to Edge TPU\n",
      "RESIZE_NEAREST_NEIGHBOR        2          Mapped to Edge TPU\n",
      "QUANTIZE                       1          Mapped to Edge TPU\n",
      "QUANTIZE                       1          More than one subgraph is not supported\n",
      "CONV_2D                        1          More than one subgraph is not supported\n",
      "CONV_2D                        203        Mapped to Edge TPU\n",
      "SOFTMAX                        1          More than one subgraph is not supported\n",
      "STRIDED_SLICE                  16         Mapped to Edge TPU\n",
      "STRIDED_SLICE                  2          Operation is otherwise supported, but not mapped due to some unspecified limitation\n",
      "SPLIT                          1          More than one subgraph is not supported\n",
      "SPLIT                          6          Mapped to Edge TPU\n",
      "CONCATENATION                  36         Mapped to Edge TPU\n",
      "CONCATENATION                  1          Operation is otherwise supported, but not mapped due to some unspecified limitation\n",
      "CONCATENATION                  1          More than one subgraph is not supported\n",
      "RESHAPE                        3          More than one subgraph is not supported\n",
      "RESHAPE                        2          Mapped to Edge TPU\n",
      "RESHAPE                        1          Operation is otherwise supported, but not mapped due to some unspecified limitation\n",
      "SUB                            2          More than one subgraph is not supported\n",
      "TRANSPOSE                      2          Mapped to Edge TPU\n",
      "TRANSPOSE                      2          Operation is otherwise supported, but not mapped due to some unspecified limitation\n",
      "Compilation child process completed within timeout period.\n",
      "Compilation succeeded! \n",
      "\u001b[34m\u001b[1mEdge TPU:\u001b[0m export success ✅ 3.0s, saved as 'yolov9-s-converted_saved_model/yolov9-s-converted_full_integer_quant_edgetpu.tflite' (8.1 MB)\n",
      "\n",
      "Export complete (73.4s)\n",
      "Results saved to \u001b[1m/home/hanyong/yolov9\u001b[0m\n",
      "Predict:         yolo predict task=detect model=yolov9-s-converted_saved_model/yolov9-s-converted_full_integer_quant_edgetpu.tflite imgsz=320 int8 \n",
      "Validate:        yolo val task=detect model=yolov9-s-converted_saved_model/yolov9-s-converted_full_integer_quant_edgetpu.tflite imgsz=320 data=None int8 \n",
      "Visualize:       https://netron.app\n"
     ]
    }
   ],
   "source": [
    "from custom_yolo import CustomYOLO\n",
    "\n",
    "model = CustomYOLO(\"yolov9-s-converted.pt\", task=\"detect\")\n",
    "\n",
    "path = model.export(format=\"edgetpu\", imgsz=320)"
   ]
  },
  {
   "cell_type": "code",
   "execution_count": null,
   "metadata": {},
   "outputs": [],
   "source": []
  }
 ],
 "metadata": {
  "kernelspec": {
   "display_name": "yolov9",
   "language": "python",
   "name": "python3"
  },
  "language_info": {
   "codemirror_mode": {
    "name": "ipython",
    "version": 3
   },
   "file_extension": ".py",
   "mimetype": "text/x-python",
   "name": "python",
   "nbconvert_exporter": "python",
   "pygments_lexer": "ipython3",
   "version": "3.9.19"
  }
 },
 "nbformat": 4,
 "nbformat_minor": 2
}
