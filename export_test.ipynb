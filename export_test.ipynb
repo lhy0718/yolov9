{
 "cells": [
  {
   "cell_type": "code",
   "execution_count": 2,
   "metadata": {},
   "outputs": [
    {
     "data": {
      "text/plain": [
       "RecursiveScriptModule(original_name=DetectionModel)"
      ]
     },
     "execution_count": 2,
     "metadata": {},
     "output_type": "execute_result"
    }
   ],
   "source": [
    "import torch\n",
    "\n",
    "model = torch.jit.load('yolov9-c-converted.torchscript')\n",
    "model"
   ]
  },
  {
   "cell_type": "code",
   "execution_count": 4,
   "metadata": {},
   "outputs": [
    {
     "data": {
      "text/plain": [
       "tensor([[[4.6356e+00, 2.0938e+01, 2.6875e+01,  ..., 5.2420e+02,\n",
       "          5.5435e+02, 6.0104e+02],\n",
       "         [3.8171e+00, 1.6806e+01, 1.7310e+01,  ..., 5.8993e+02,\n",
       "          5.7692e+02, 5.7563e+02],\n",
       "         [9.3495e+00, 4.1928e+01, 5.2373e+01,  ..., 2.5554e+02,\n",
       "          2.4781e+02, 2.5034e+02],\n",
       "         ...,\n",
       "         [2.5425e-06, 1.4884e-06, 2.0149e-06,  ..., 3.7624e-06,\n",
       "          3.6006e-06, 3.3719e-06],\n",
       "         [6.5597e-07, 3.2498e-07, 3.7672e-07,  ..., 3.7837e-06,\n",
       "          3.4001e-06, 3.3633e-06],\n",
       "         [1.2847e-06, 4.1562e-07, 4.1161e-07,  ..., 3.5458e-06,\n",
       "          3.1826e-06, 3.2444e-06]]])"
      ]
     },
     "execution_count": 4,
     "metadata": {},
     "output_type": "execute_result"
    }
   ],
   "source": [
    "dummy_input = torch.randn(1, 3, 640, 640)\n",
    "\n",
    "model(dummy_input)"
   ]
  },
  {
   "cell_type": "code",
   "execution_count": null,
   "metadata": {},
   "outputs": [],
   "source": []
  }
 ],
 "metadata": {
  "kernelspec": {
   "display_name": "yolov9",
   "language": "python",
   "name": "python3"
  },
  "language_info": {
   "codemirror_mode": {
    "name": "ipython",
    "version": 3
   },
   "file_extension": ".py",
   "mimetype": "text/x-python",
   "name": "python",
   "nbconvert_exporter": "python",
   "pygments_lexer": "ipython3",
   "version": "3.10.14"
  }
 },
 "nbformat": 4,
 "nbformat_minor": 2
}
